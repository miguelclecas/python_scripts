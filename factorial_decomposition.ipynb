{
  "nbformat": 4,
  "nbformat_minor": 0,
  "metadata": {
    "colab": {
      "provenance": []
    },
    "kernelspec": {
      "name": "python3",
      "display_name": "Python 3"
    },
    "language_info": {
      "name": "python"
    }
  },
  "cells": [
    {
      "cell_type": "code",
      "execution_count": 1,
      "metadata": {
        "id": "TMcL2y5QawSj"
      },
      "outputs": [],
      "source": [
        "primos = []\n",
        "for i in range(0,1000):\n",
        "  div = []\n",
        "  for e in range(1,i):\n",
        "    if i%e==0:\n",
        "      div.append(e)\n",
        "  if len(div)==1:\n",
        "    primos.append(i)"
      ]
    },
    {
      "cell_type": "code",
      "source": [
        "n = int(input(\"Número: \"))\n",
        "f = []\n",
        "c = 0\n",
        "while n > 1:\n",
        "  while n%primos[c] == 0:\n",
        "    while n%primos[c] == 0:\n",
        "      n = n/primos[c]\n",
        "      f.append(primos[c])\n",
        "  c += 1\n",
        "print(f)"
      ],
      "metadata": {
        "colab": {
          "base_uri": "https://localhost:8080/"
        },
        "id": "juRuC-BCa9YS",
        "outputId": "fd1cb39e-7e67-405f-c881-c4126274e45f"
      },
      "execution_count": 2,
      "outputs": [
        {
          "output_type": "stream",
          "name": "stdout",
          "text": [
            "Número: 48\n",
            "[2, 2, 2, 2, 3]\n"
          ]
        }
      ]
    },
    {
      "cell_type": "code",
      "source": [],
      "metadata": {
        "id": "LE-YpBwIkJwK"
      },
      "execution_count": null,
      "outputs": []
    }
  ]
}